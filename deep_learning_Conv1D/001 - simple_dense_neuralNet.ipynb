{
 "cells": [
  {
   "cell_type": "markdown",
   "metadata": {
    "colab_type": "text",
    "id": "ICFGCk_BWKAE"
   },
   "source": [
    "# Forecast di serie storica univariata"
   ]
  },
  {
   "cell_type": "markdown",
   "metadata": {
    "colab_type": "text",
    "id": "xW7OtzAnWW7J"
   },
   "source": [
    "Utilizzeremo sempre il dataset Jena Climate. In questo primo esempio solo il dato sulla temperatura."
   ]
  },
  {
   "cell_type": "markdown",
   "metadata": {
    "colab_type": "text",
    "id": "QxbtNlT5TOwA"
   },
   "source": [
    "### Connessione al nostro Google Drive"
   ]
  },
  {
   "cell_type": "code",
   "execution_count": 0,
   "metadata": {
    "colab": {
     "base_uri": "https://localhost:8080/",
     "height": 54
    },
    "colab_type": "code",
    "executionInfo": {
     "elapsed": 28572,
     "status": "ok",
     "timestamp": 1562229427854,
     "user": {
      "displayName": "Nicola Procopio",
      "photoUrl": "https://lh6.googleusercontent.com/-0FiYlmA_b6M/AAAAAAAAAAI/AAAAAAAABKk/8Uy5ioetBUA/s64/photo.jpg",
      "userId": "17184811544207335835"
     },
     "user_tz": -120
    },
    "id": "b50VNLPlSvfh",
    "outputId": "b66673b8-53b7-484c-b824-0070f8743b0f"
   },
   "outputs": [
    {
     "name": "stdout",
     "output_type": "stream",
     "text": [
      "\u001b[?25l\r",
      "\u001b[K     |▎                               | 10kB 16.0MB/s eta 0:00:01\r",
      "\u001b[K     |▋                               | 20kB 1.4MB/s eta 0:00:01\r",
      "\u001b[K     |█                               | 30kB 2.1MB/s eta 0:00:01\r",
      "\u001b[K     |█▎                              | 40kB 1.4MB/s eta 0:00:01\r",
      "\u001b[K     |█▋                              | 51kB 1.7MB/s eta 0:00:01\r",
      "\u001b[K     |██                              | 61kB 2.0MB/s eta 0:00:01\r",
      "\u001b[K     |██▎                             | 71kB 2.3MB/s eta 0:00:01\r",
      "\u001b[K     |██▋                             | 81kB 2.7MB/s eta 0:00:01\r",
      "\u001b[K     |███                             | 92kB 3.0MB/s eta 0:00:01\r",
      "\u001b[K     |███▎                            | 102kB 2.3MB/s eta 0:00:01\r",
      "\u001b[K     |███▋                            | 112kB 2.3MB/s eta 0:00:01\r",
      "\u001b[K     |████                            | 122kB 2.3MB/s eta 0:00:01\r",
      "\u001b[K     |████▎                           | 133kB 2.3MB/s eta 0:00:01\r",
      "\u001b[K     |████▋                           | 143kB 2.3MB/s eta 0:00:01\r",
      "\u001b[K     |█████                           | 153kB 2.3MB/s eta 0:00:01\r",
      "\u001b[K     |█████▎                          | 163kB 2.3MB/s eta 0:00:01\r",
      "\u001b[K     |█████▋                          | 174kB 2.3MB/s eta 0:00:01\r",
      "\u001b[K     |██████                          | 184kB 2.3MB/s eta 0:00:01\r",
      "\u001b[K     |██████▎                         | 194kB 2.3MB/s eta 0:00:01\r",
      "\u001b[K     |██████▋                         | 204kB 2.3MB/s eta 0:00:01\r",
      "\u001b[K     |███████                         | 215kB 2.3MB/s eta 0:00:01\r",
      "\u001b[K     |███████▎                        | 225kB 2.3MB/s eta 0:00:01\r",
      "\u001b[K     |███████▋                        | 235kB 2.3MB/s eta 0:00:01\r",
      "\u001b[K     |████████                        | 245kB 2.3MB/s eta 0:00:01\r",
      "\u001b[K     |████████▎                       | 256kB 2.3MB/s eta 0:00:01\r",
      "\u001b[K     |████████▋                       | 266kB 2.3MB/s eta 0:00:01\r",
      "\u001b[K     |█████████                       | 276kB 2.3MB/s eta 0:00:01\r",
      "\u001b[K     |█████████▎                      | 286kB 2.3MB/s eta 0:00:01\r",
      "\u001b[K     |█████████▋                      | 296kB 2.3MB/s eta 0:00:01\r",
      "\u001b[K     |██████████                      | 307kB 2.3MB/s eta 0:00:01\r",
      "\u001b[K     |██████████▎                     | 317kB 2.3MB/s eta 0:00:01\r",
      "\u001b[K     |██████████▋                     | 327kB 2.3MB/s eta 0:00:01\r",
      "\u001b[K     |███████████                     | 337kB 2.3MB/s eta 0:00:01\r",
      "\u001b[K     |███████████▎                    | 348kB 2.3MB/s eta 0:00:01\r",
      "\u001b[K     |███████████▋                    | 358kB 2.3MB/s eta 0:00:01\r",
      "\u001b[K     |████████████                    | 368kB 2.3MB/s eta 0:00:01\r",
      "\u001b[K     |████████████▎                   | 378kB 2.3MB/s eta 0:00:01\r",
      "\u001b[K     |████████████▋                   | 389kB 2.3MB/s eta 0:00:01\r",
      "\u001b[K     |█████████████                   | 399kB 2.3MB/s eta 0:00:01\r",
      "\u001b[K     |█████████████▎                  | 409kB 2.3MB/s eta 0:00:01\r",
      "\u001b[K     |█████████████▋                  | 419kB 2.3MB/s eta 0:00:01\r",
      "\u001b[K     |██████████████                  | 430kB 2.3MB/s eta 0:00:01\r",
      "\u001b[K     |██████████████▎                 | 440kB 2.3MB/s eta 0:00:01\r",
      "\u001b[K     |██████████████▋                 | 450kB 2.3MB/s eta 0:00:01\r",
      "\u001b[K     |███████████████                 | 460kB 2.3MB/s eta 0:00:01\r",
      "\u001b[K     |███████████████▎                | 471kB 2.3MB/s eta 0:00:01\r",
      "\u001b[K     |███████████████▋                | 481kB 2.3MB/s eta 0:00:01\r",
      "\u001b[K     |████████████████                | 491kB 2.3MB/s eta 0:00:01\r",
      "\u001b[K     |████████████████▎               | 501kB 2.3MB/s eta 0:00:01\r",
      "\u001b[K     |████████████████▋               | 512kB 2.3MB/s eta 0:00:01\r",
      "\u001b[K     |█████████████████               | 522kB 2.3MB/s eta 0:00:01\r",
      "\u001b[K     |█████████████████▎              | 532kB 2.3MB/s eta 0:00:01\r",
      "\u001b[K     |█████████████████▋              | 542kB 2.3MB/s eta 0:00:01\r",
      "\u001b[K     |██████████████████              | 552kB 2.3MB/s eta 0:00:01\r",
      "\u001b[K     |██████████████████▎             | 563kB 2.3MB/s eta 0:00:01\r",
      "\u001b[K     |██████████████████▋             | 573kB 2.3MB/s eta 0:00:01\r",
      "\u001b[K     |███████████████████             | 583kB 2.3MB/s eta 0:00:01\r",
      "\u001b[K     |███████████████████▎            | 593kB 2.3MB/s eta 0:00:01\r",
      "\u001b[K     |███████████████████▋            | 604kB 2.3MB/s eta 0:00:01\r",
      "\u001b[K     |████████████████████            | 614kB 2.3MB/s eta 0:00:01\r",
      "\u001b[K     |████████████████████▎           | 624kB 2.3MB/s eta 0:00:01\r",
      "\u001b[K     |████████████████████▋           | 634kB 2.3MB/s eta 0:00:01\r",
      "\u001b[K     |█████████████████████           | 645kB 2.3MB/s eta 0:00:01\r",
      "\u001b[K     |█████████████████████▎          | 655kB 2.3MB/s eta 0:00:01\r",
      "\u001b[K     |█████████████████████▋          | 665kB 2.3MB/s eta 0:00:01\r",
      "\u001b[K     |██████████████████████          | 675kB 2.3MB/s eta 0:00:01\r",
      "\u001b[K     |██████████████████████▎         | 686kB 2.3MB/s eta 0:00:01\r",
      "\u001b[K     |██████████████████████▋         | 696kB 2.3MB/s eta 0:00:01\r",
      "\u001b[K     |███████████████████████         | 706kB 2.3MB/s eta 0:00:01\r",
      "\u001b[K     |███████████████████████▎        | 716kB 2.3MB/s eta 0:00:01\r",
      "\u001b[K     |███████████████████████▋        | 727kB 2.3MB/s eta 0:00:01\r",
      "\u001b[K     |████████████████████████        | 737kB 2.3MB/s eta 0:00:01\r",
      "\u001b[K     |████████████████████████▎       | 747kB 2.3MB/s eta 0:00:01\r",
      "\u001b[K     |████████████████████████▋       | 757kB 2.3MB/s eta 0:00:01\r",
      "\u001b[K     |████████████████████████▉       | 768kB 2.3MB/s eta 0:00:01\r",
      "\u001b[K     |█████████████████████████▏      | 778kB 2.3MB/s eta 0:00:01\r",
      "\u001b[K     |█████████████████████████▌      | 788kB 2.3MB/s eta 0:00:01\r",
      "\u001b[K     |█████████████████████████▉      | 798kB 2.3MB/s eta 0:00:01\r",
      "\u001b[K     |██████████████████████████▏     | 808kB 2.3MB/s eta 0:00:01\r",
      "\u001b[K     |██████████████████████████▌     | 819kB 2.3MB/s eta 0:00:01\r",
      "\u001b[K     |██████████████████████████▉     | 829kB 2.3MB/s eta 0:00:01\r",
      "\u001b[K     |███████████████████████████▏    | 839kB 2.3MB/s eta 0:00:01\r",
      "\u001b[K     |███████████████████████████▌    | 849kB 2.3MB/s eta 0:00:01\r",
      "\u001b[K     |███████████████████████████▉    | 860kB 2.3MB/s eta 0:00:01\r",
      "\u001b[K     |████████████████████████████▏   | 870kB 2.3MB/s eta 0:00:01\r",
      "\u001b[K     |████████████████████████████▌   | 880kB 2.3MB/s eta 0:00:01\r",
      "\u001b[K     |████████████████████████████▉   | 890kB 2.3MB/s eta 0:00:01\r",
      "\u001b[K     |█████████████████████████████▏  | 901kB 2.3MB/s eta 0:00:01\r",
      "\u001b[K     |█████████████████████████████▌  | 911kB 2.3MB/s eta 0:00:01\r",
      "\u001b[K     |█████████████████████████████▉  | 921kB 2.3MB/s eta 0:00:01\r",
      "\u001b[K     |██████████████████████████████▏ | 931kB 2.3MB/s eta 0:00:01\r",
      "\u001b[K     |██████████████████████████████▌ | 942kB 2.3MB/s eta 0:00:01\r",
      "\u001b[K     |██████████████████████████████▉ | 952kB 2.3MB/s eta 0:00:01\r",
      "\u001b[K     |███████████████████████████████▏| 962kB 2.3MB/s eta 0:00:01\r",
      "\u001b[K     |███████████████████████████████▌| 972kB 2.3MB/s eta 0:00:01\r",
      "\u001b[K     |███████████████████████████████▉| 983kB 2.3MB/s eta 0:00:01\r",
      "\u001b[K     |████████████████████████████████| 993kB 2.3MB/s \n",
      "\u001b[?25h  Building wheel for PyDrive (setup.py) ... \u001b[?25l\u001b[?25hdone\n"
     ]
    }
   ],
   "source": [
    "!pip install -U -q PyDrive\n",
    "from pydrive.auth import GoogleAuth\n",
    "from pydrive.drive import GoogleDrive\n",
    "from google.colab import auth\n",
    "from oauth2client.client import GoogleCredentials\n",
    "\n",
    "# Authenticate and create the PyDrive client.\n",
    "auth.authenticate_user()\n",
    "gauth = GoogleAuth()\n",
    "gauth.credentials = GoogleCredentials.get_application_default()\n",
    "drive = GoogleDrive(gauth)"
   ]
  },
  {
   "cell_type": "code",
   "execution_count": 0,
   "metadata": {
    "colab": {
     "base_uri": "https://localhost:8080/",
     "height": 35
    },
    "colab_type": "code",
    "executionInfo": {
     "elapsed": 977,
     "status": "ok",
     "timestamp": 1562229433829,
     "user": {
      "displayName": "Nicola Procopio",
      "photoUrl": "https://lh6.googleusercontent.com/-0FiYlmA_b6M/AAAAAAAAAAI/AAAAAAAABKk/8Uy5ioetBUA/s64/photo.jpg",
      "userId": "17184811544207335835"
     },
     "user_tz": -120
    },
    "id": "-DqUcQekTEkg",
    "outputId": "5ffc49e9-38eb-4258-d65a-f2313d38b891"
   },
   "outputs": [
    {
     "name": "stdout",
     "output_type": "stream",
     "text": [
      "1cAWnNDGcdLUv55Qk-o2Fhc6toFVB-Vtg\n"
     ]
    }
   ],
   "source": [
    "link = 'https://drive.google.com/yourlinkforsharing'\n",
    "fluff, id = link.split('=')\n",
    "\n",
    "print (id)"
   ]
  },
  {
   "cell_type": "markdown",
   "metadata": {
    "colab_type": "text",
    "id": "Wi7lIuJXT7sL"
   },
   "source": [
    "### Caricamento dei dati"
   ]
  },
  {
   "cell_type": "code",
   "execution_count": 0,
   "metadata": {
    "colab": {},
    "colab_type": "code",
    "id": "KXjEiLsVTMDO"
   },
   "outputs": [],
   "source": [
    "downloaded = drive.CreateFile({'id':id}) \n",
    "downloaded.GetContentFile('jena_climate_2009_2016.csv')"
   ]
  },
  {
   "cell_type": "code",
   "execution_count": 0,
   "metadata": {
    "colab": {
     "base_uri": "https://localhost:8080/",
     "height": 35
    },
    "colab_type": "code",
    "executionInfo": {
     "elapsed": 894,
     "status": "ok",
     "timestamp": 1562229441656,
     "user": {
      "displayName": "Nicola Procopio",
      "photoUrl": "https://lh6.googleusercontent.com/-0FiYlmA_b6M/AAAAAAAAAAI/AAAAAAAABKk/8Uy5ioetBUA/s64/photo.jpg",
      "userId": "17184811544207335835"
     },
     "user_tz": -120
    },
    "id": "EZoFyT_LVO32",
    "outputId": "f5cbd84d-295e-4fc9-a682-24700ec48295"
   },
   "outputs": [
    {
     "data": {
      "text/plain": [
       "<function TextIOWrapper.close>"
      ]
     },
     "execution_count": 4,
     "metadata": {
      "tags": []
     },
     "output_type": "execute_result"
    }
   ],
   "source": [
    "fname = 'jena_climate_2009_2016.csv'\n",
    "f = open(fname)\n",
    "data = f.read()\n",
    "f.close"
   ]
  },
  {
   "cell_type": "code",
   "execution_count": 0,
   "metadata": {
    "colab": {},
    "colab_type": "code",
    "id": "VS3kHz8fTncq"
   },
   "outputs": [],
   "source": [
    "lines = data.split('\\n')\n",
    "header = lines[0].split(',')\n",
    "lines = lines[1:]"
   ]
  },
  {
   "cell_type": "code",
   "execution_count": 0,
   "metadata": {
    "colab": {
     "base_uri": "https://localhost:8080/",
     "height": 92
    },
    "colab_type": "code",
    "executionInfo": {
     "elapsed": 963,
     "status": "ok",
     "timestamp": 1562229447400,
     "user": {
      "displayName": "Nicola Procopio",
      "photoUrl": "https://lh6.googleusercontent.com/-0FiYlmA_b6M/AAAAAAAAAAI/AAAAAAAABKk/8Uy5ioetBUA/s64/photo.jpg",
      "userId": "17184811544207335835"
     },
     "user_tz": -120
    },
    "id": "hDlFhYEFToIi",
    "outputId": "9faf4a79-29b8-4626-d87a-9b86ea022ee0"
   },
   "outputs": [
    {
     "name": "stdout",
     "output_type": "stream",
     "text": [
      "['\"Date Time\"', '\"p (mbar)\"', '\"T (degC)\"', '\"Tpot (K)\"', '\"Tdew (degC)\"', '\"rh (%)\"', '\"VPmax (mbar)\"', '\"VPact (mbar)\"', '\"VPdef (mbar)\"', '\"sh (g/kg)\"', '\"H2OC (mmol/mol)\"', '\"rho (g/m**3)\"', '\"wv (m/s)\"', '\"max. wv (m/s)\"', '\"wd (deg)\"']\n",
      "15\n",
      "420551\n"
     ]
    }
   ],
   "source": [
    "print(header)\n",
    "print(len(header))\n",
    "print(len(lines))"
   ]
  },
  {
   "cell_type": "markdown",
   "metadata": {
    "colab_type": "text",
    "id": "bwp8zBABUHHT"
   },
   "source": [
    "### Parsing dei dati e creazione del vettore della serie storica"
   ]
  },
  {
   "cell_type": "code",
   "execution_count": 0,
   "metadata": {
    "colab": {},
    "colab_type": "code",
    "id": "FEdkwjVwUE7q"
   },
   "outputs": [],
   "source": [
    "import numpy as np\n",
    "float_data = np.zeros((len(lines), len(header)-1))\n",
    "for i, line in enumerate(lines):\n",
    "    values = [float(x) for x in line.split(',')[1:]]\n",
    "    float_data[i, :] = values"
   ]
  },
  {
   "cell_type": "markdown",
   "metadata": {
    "colab_type": "text",
    "id": "NkL5RZGOUsOd"
   },
   "source": [
    "Plot della serie storica completa"
   ]
  },
  {
   "cell_type": "code",
   "execution_count": 0,
   "metadata": {
    "colab": {
     "base_uri": "https://localhost:8080/",
     "height": 287
    },
    "colab_type": "code",
    "executionInfo": {
     "elapsed": 1519,
     "status": "ok",
     "timestamp": 1562229456104,
     "user": {
      "displayName": "Nicola Procopio",
      "photoUrl": "https://lh6.googleusercontent.com/-0FiYlmA_b6M/AAAAAAAAAAI/AAAAAAAABKk/8Uy5ioetBUA/s64/photo.jpg",
      "userId": "17184811544207335835"
     },
     "user_tz": -120
    },
    "id": "3kT6Ca-UUu96",
    "outputId": "f908c17c-c9ea-41dd-c418-27b7826246f8"
   },
   "outputs": [
    {
     "data": {
      "text/plain": [
       "[<matplotlib.lines.Line2D at 0x7f98ebfe5320>]"
      ]
     },
     "execution_count": 8,
     "metadata": {
      "tags": []
     },
     "output_type": "execute_result"
    },
    {
     "data": {
      "image/png": "[encoded data removed]",
      "text/plain": [
       "<Figure size 432x288 with 1 Axes>"
      ]
     },
     "metadata": {
      "tags": []
     },
     "output_type": "display_data"
    }
   ],
   "source": [
    "import matplotlib.pyplot as plt\n",
    "%matplotlib inline\n",
    "temp = float_data[:,1]\n",
    "fig = plt.gcf()\n",
    "fig.set_size_inches(18.5, 10.5)\n",
    "plt.plot(range(len(temp)), temp)"
   ]
  },
  {
   "cell_type": "markdown",
   "metadata": {
    "colab_type": "text",
    "id": "q9CzK2xqUwIn"
   },
   "source": [
    "Plot dei primi dieci gioni"
   ]
  },
  {
   "cell_type": "code",
   "execution_count": 0,
   "metadata": {
    "colab": {
     "base_uri": "https://localhost:8080/",
     "height": 287
    },
    "colab_type": "code",
    "executionInfo": {
     "elapsed": 953,
     "status": "ok",
     "timestamp": 1562229458517,
     "user": {
      "displayName": "Nicola Procopio",
      "photoUrl": "https://lh6.googleusercontent.com/-0FiYlmA_b6M/AAAAAAAAAAI/AAAAAAAABKk/8Uy5ioetBUA/s64/photo.jpg",
      "userId": "17184811544207335835"
     },
     "user_tz": -120
    },
    "id": "O5yd3o72U06K",
    "outputId": "4776d008-166f-41c4-f69a-98030a544b0b"
   },
   "outputs": [
    {
     "data": {
      "text/plain": [
       "[<matplotlib.lines.Line2D at 0x7f98e96f2278>]"
      ]
     },
     "execution_count": 9,
     "metadata": {
      "tags": []
     },
     "output_type": "execute_result"
    },
    {
     "data": {
      "image/png": "[encoded data removed]",
      "text/plain": [
       "<Figure size 432x288 with 1 Axes>"
      ]
     },
     "metadata": {
      "tags": []
     },
     "output_type": "display_data"
    }
   ],
   "source": [
    "fig = plt.gcf()\n",
    "fig.set_size_inches(18.5, 10.5)\n",
    "plt.plot(range(1440), temp[:1440])"
   ]
  },
  {
   "cell_type": "markdown",
   "metadata": {
    "colab_type": "text",
    "id": "74OadZhCVkIG"
   },
   "source": [
    "### Preprocessing"
   ]
  },
  {
   "cell_type": "markdown",
   "metadata": {
    "colab_type": "text",
    "id": "LLqvbgMTIyR5"
   },
   "source": [
    "Tengo il 70% delle osservazioni per allenare il modello (il 30% di queste verrà utilizzato come validation) e il restante 30% lo utilizzeremo per il test."
   ]
  },
  {
   "cell_type": "code",
   "execution_count": 0,
   "metadata": {
    "colab": {},
    "colab_type": "code",
    "id": "gG5J3T4gV3X0"
   },
   "outputs": [],
   "source": [
    "train_size = int(len(temp) * 0.70)"
   ]
  },
  {
   "cell_type": "code",
   "execution_count": 0,
   "metadata": {
    "colab": {},
    "colab_type": "code",
    "id": "_krMJdNzJBuh"
   },
   "outputs": [],
   "source": [
    "train = temp[:train_size]\n",
    "test = temp[train_size:]"
   ]
  },
  {
   "cell_type": "markdown",
   "metadata": {
    "colab_type": "text",
    "id": "qo7buJwTJnXE"
   },
   "source": [
    "Bisogna creare delle sequenze input/output dove gli N valori precedenti vanno a predire il successivo. Al momento in output inseriamo un valore solo ma è possibile anche lavorare in multi-step.\n",
    "<br>\n",
    "La funzione ***split_sequence()*** serve a questo bisogno, creare delle finestre temporali."
   ]
  },
  {
   "cell_type": "code",
   "execution_count": 0,
   "metadata": {
    "colab": {},
    "colab_type": "code",
    "id": "sybqiUXUJdTL"
   },
   "outputs": [],
   "source": [
    "# split a univariate sequence into samples\n",
    "def split_sequence(sequence, n_steps):\n",
    "\tX, y = list(), list()\n",
    "\tfor i in range(len(sequence)):\n",
    "\t\t# find the end of this pattern\n",
    "\t\tend_ix = i + n_steps\n",
    "\t\t# check if we are beyond the sequence\n",
    "\t\tif end_ix > len(sequence)-1:\n",
    "\t\t\tbreak\n",
    "\t\t# gather input and output parts of the pattern\n",
    "\t\tseq_x, seq_y = sequence[i:end_ix], sequence[end_ix]\n",
    "\t\tX.append(seq_x)\n",
    "\t\ty.append(seq_y)\n",
    "\treturn np.array(X), np.array(y)"
   ]
  },
  {
   "cell_type": "markdown",
   "metadata": {
    "colab_type": "text",
    "id": "ElQCFQH1KQY3"
   },
   "source": [
    "Avendo dati a 10 minuti vogliamo predire considerando l'ora precedente quindi il parametro *n_steps* verrà impostato a 6."
   ]
  },
  {
   "cell_type": "code",
   "execution_count": 0,
   "metadata": {
    "colab": {},
    "colab_type": "code",
    "id": "o1Hqs5tjKNFs"
   },
   "outputs": [],
   "source": [
    "train_x, train_y = split_sequence(sequence= train, n_steps= 6)\n",
    "test_x, test_y = split_sequence(sequence= test, n_steps= 6)"
   ]
  },
  {
   "cell_type": "markdown",
   "metadata": {
    "colab_type": "text",
    "id": "Ssc8XhkELDrY"
   },
   "source": [
    "Vediamo i primi 10 elementi del train per capire il formato."
   ]
  },
  {
   "cell_type": "code",
   "execution_count": 0,
   "metadata": {
    "colab": {
     "base_uri": "https://localhost:8080/",
     "height": 201
    },
    "colab_type": "code",
    "executionInfo": {
     "elapsed": 928,
     "status": "ok",
     "timestamp": 1562230232416,
     "user": {
      "displayName": "Nicola Procopio",
      "photoUrl": "https://lh6.googleusercontent.com/-0FiYlmA_b6M/AAAAAAAAAAI/AAAAAAAABKk/8Uy5ioetBUA/s64/photo.jpg",
      "userId": "17184811544207335835"
     },
     "user_tz": -120
    },
    "id": "1JughDdOKxKV",
    "outputId": "490db30b-c0d4-4e1b-f540-ccced50e6bb8"
   },
   "outputs": [
    {
     "name": "stdout",
     "output_type": "stream",
     "text": [
      "[-8.02 -8.41 -8.51 -8.31 -8.27 -8.05] -7.62\n",
      "[-8.41 -8.51 -8.31 -8.27 -8.05 -7.62] -7.62\n",
      "[-8.51 -8.31 -8.27 -8.05 -7.62 -7.62] -7.91\n",
      "[-8.31 -8.27 -8.05 -7.62 -7.62 -7.91] -8.43\n",
      "[-8.27 -8.05 -7.62 -7.62 -7.91 -8.43] -8.76\n",
      "[-8.05 -7.62 -7.62 -7.91 -8.43 -8.76] -8.88\n",
      "[-7.62 -7.62 -7.91 -8.43 -8.76 -8.88] -8.85\n",
      "[-7.62 -7.91 -8.43 -8.76 -8.88 -8.85] -8.83\n",
      "[-7.91 -8.43 -8.76 -8.88 -8.85 -8.83] -8.66\n",
      "[-8.43 -8.76 -8.88 -8.85 -8.83 -8.66] -8.66\n"
     ]
    }
   ],
   "source": [
    "for i in range(10):\n",
    "\tprint(train_x[i], train_y[i])"
   ]
  },
  {
   "cell_type": "markdown",
   "metadata": {
    "colab_type": "text",
    "id": "iyjBpcv7LxGc"
   },
   "source": [
    "### Model: Simple Dense MLP"
   ]
  },
  {
   "cell_type": "markdown",
   "metadata": {
    "colab_type": "text",
    "id": "uNvlT9JXL5qT"
   },
   "source": [
    "Creiamo una rete abbastanza semplice e sperimentiamo diversi tuning."
   ]
  },
  {
   "cell_type": "code",
   "execution_count": 0,
   "metadata": {
    "colab": {},
    "colab_type": "code",
    "id": "QA0WYMOnLZEl"
   },
   "outputs": [],
   "source": [
    "!pip install -U -q tensorflow"
   ]
  },
  {
   "cell_type": "code",
   "execution_count": 0,
   "metadata": {
    "colab": {},
    "colab_type": "code",
    "id": "_VDtgl-UMTcz"
   },
   "outputs": [],
   "source": [
    "from tensorflow.keras.models import Sequential\n",
    "from tensorflow.keras.layers import Dense"
   ]
  },
  {
   "cell_type": "markdown",
   "metadata": {
    "colab_type": "text",
    "id": "rW_0v1_dNXZl"
   },
   "source": [
    "Il primo modello è una rete semplice:\n",
    "\n",
    "1.   ha uno strato con 8 neuroni, 6 sono i parametri di input.\n",
    "2.   la funzione di attivazione è una Rectified Linear Unit (ReLU)\n",
    "3.   la funzione obiettivo è l'errore quadratico medio\n",
    "4.   optimizer adam [https://keras.io/optimizers/]\n",
    "5.   alleniamo per 10 epoche inizialmente poi in caso si può incrementare\n",
    "6.   batch_size più è basso meno sarà accurata la stima del gradiente ma ne beneficiano le performance e la generalizzazione\n",
    "7.   steps_per_epoch è il numero di campioni prima di dichiarare un'epoca conclusa e passare alla prossima.\n",
    "8.   il validation_split è la parte del dataset che viene utilizzata in fase di validazione del modello\n",
    "\n",
    "\n",
    "\n",
    "\n",
    "\n",
    "\n"
   ]
  },
  {
   "cell_type": "code",
   "execution_count": 0,
   "metadata": {
    "colab": {},
    "colab_type": "code",
    "id": "U34aT0hNMbwt"
   },
   "outputs": [],
   "source": [
    "model = Sequential()\n",
    "model.add(Dense(8, input_dim=6, activation='relu'))\n",
    "model.add(Dense(1))\n",
    "model.compile(loss='mse', optimizer='adam')"
   ]
  },
  {
   "cell_type": "code",
   "execution_count": 0,
   "metadata": {
    "colab": {
     "base_uri": "https://localhost:8080/",
     "height": 384
    },
    "colab_type": "code",
    "executionInfo": {
     "elapsed": 170063,
     "status": "ok",
     "timestamp": 1562232491992,
     "user": {
      "displayName": "Nicola Procopio",
      "photoUrl": "https://lh6.googleusercontent.com/-0FiYlmA_b6M/AAAAAAAAAAI/AAAAAAAABKk/8Uy5ioetBUA/s64/photo.jpg",
      "userId": "17184811544207335835"
     },
     "user_tz": -120
    },
    "id": "fXNLaqSxSHBI",
    "outputId": "95225b00-7e43-49c6-bc4b-6f918bf5c34f"
   },
   "outputs": [
    {
     "name": "stdout",
     "output_type": "stream",
     "text": [
      "Epoch 1/10\n",
      "32/32 [==============================] - 17s 539ms/step - loss: 134.2974 - val_loss: 85.7521\n",
      "Epoch 2/10\n",
      "32/32 [==============================] - 17s 530ms/step - loss: 56.6275 - val_loss: 19.2413\n",
      "Epoch 3/10\n",
      "32/32 [==============================] - 17s 529ms/step - loss: 15.7670 - val_loss: 4.5550\n",
      "Epoch 4/10\n",
      "32/32 [==============================] - 17s 529ms/step - loss: 10.6006 - val_loss: 3.7699\n",
      "Epoch 5/10\n",
      "32/32 [==============================] - 17s 525ms/step - loss: 8.8432 - val_loss: 3.1482\n",
      "Epoch 6/10\n",
      "32/32 [==============================] - 17s 523ms/step - loss: 7.1294 - val_loss: 2.4936\n",
      "Epoch 7/10\n",
      "32/32 [==============================] - 17s 527ms/step - loss: 5.3448 - val_loss: 1.8352\n",
      "Epoch 8/10\n",
      "32/32 [==============================] - 17s 529ms/step - loss: 3.6454 - val_loss: 1.2547\n",
      "Epoch 9/10\n",
      "32/32 [==============================] - 17s 527ms/step - loss: 2.2531 - val_loss: 0.8254\n",
      "Epoch 10/10\n",
      "32/32 [==============================] - 17s 528ms/step - loss: 1.3044 - val_loss: 0.5687\n"
     ]
    }
   ],
   "source": [
    "history = model.fit(train_x, train_y, epochs=10, batch_size=8, steps_per_epoch= 32 ,validation_split=0.3)"
   ]
  },
  {
   "cell_type": "code",
   "execution_count": 0,
   "metadata": {
    "colab": {
     "base_uri": "https://localhost:8080/",
     "height": 281
    },
    "colab_type": "code",
    "executionInfo": {
     "elapsed": 856,
     "status": "ok",
     "timestamp": 1562232496774,
     "user": {
      "displayName": "Nicola Procopio",
      "photoUrl": "https://lh6.googleusercontent.com/-0FiYlmA_b6M/AAAAAAAAAAI/AAAAAAAABKk/8Uy5ioetBUA/s64/photo.jpg",
      "userId": "17184811544207335835"
     },
     "user_tz": -120
    },
    "id": "WrIkR_QhMzJd",
    "outputId": "a20fa29b-ae96-4475-e197-d032b3dffb8c"
   },
   "outputs": [
    {
     "data": {
      "image/png": "[encoded data removed]",
      "text/plain": [
       "<Figure size 432x288 with 1 Axes>"
      ]
     },
     "metadata": {
      "tags": []
     },
     "output_type": "display_data"
    }
   ],
   "source": [
    "loss = history.history['loss']\n",
    "val_loss = history.history['val_loss']\n",
    "epochs = range(1, len(loss)+1)\n",
    "plt.figure()\n",
    "fig = plt.gcf()\n",
    "fig.set_size_inches(18.5, 10.5)\n",
    "plt.plot(epochs, loss, 'bo', label = 'Training loss')\n",
    "plt.plot(epochs, val_loss, 'b', label = 'Validation loss')\n",
    "plt.title('Training and Validation Loss')\n",
    "plt.legend()\n",
    "\n",
    "plt.show()"
   ]
  },
  {
   "cell_type": "markdown",
   "metadata": {
    "colab_type": "text",
    "id": "duXh-wNcUE-h"
   },
   "source": [
    "Testiamo una seconda configurazione con più epoche e un diverso setting dei parametri, inseriamo anche lo shuffle."
   ]
  },
  {
   "cell_type": "code",
   "execution_count": 0,
   "metadata": {
    "colab": {
     "base_uri": "https://localhost:8080/",
     "height": 1000
    },
    "colab_type": "code",
    "executionInfo": {
     "elapsed": 858765,
     "status": "ok",
     "timestamp": 1562234098514,
     "user": {
      "displayName": "Nicola Procopio",
      "photoUrl": "https://lh6.googleusercontent.com/-0FiYlmA_b6M/AAAAAAAAAAI/AAAAAAAABKk/8Uy5ioetBUA/s64/photo.jpg",
      "userId": "17184811544207335835"
     },
     "user_tz": -120
    },
    "id": "YwGns8ONUMzG",
    "outputId": "0acdec9d-f2e1-4a40-beee-934995345273"
   },
   "outputs": [
    {
     "name": "stdout",
     "output_type": "stream",
     "text": [
      "Epoch 1/50\n",
      "128/128 [==============================] - 18s 139ms/step - loss: 0.0597 - val_loss: 0.0519\n",
      "Epoch 2/50\n",
      "128/128 [==============================] - 18s 138ms/step - loss: 0.0589 - val_loss: 0.0512\n",
      "Epoch 3/50\n",
      "128/128 [==============================] - 17s 135ms/step - loss: 0.0581 - val_loss: 0.0505\n",
      "Epoch 4/50\n",
      "128/128 [==============================] - 17s 134ms/step - loss: 0.0573 - val_loss: 0.0499\n",
      "Epoch 5/50\n",
      "128/128 [==============================] - 17s 135ms/step - loss: 0.0566 - val_loss: 0.0493\n",
      "Epoch 6/50\n",
      "128/128 [==============================] - 17s 134ms/step - loss: 0.0559 - val_loss: 0.0487\n",
      "Epoch 7/50\n",
      "128/128 [==============================] - 17s 134ms/step - loss: 0.0553 - val_loss: 0.0482\n",
      "Epoch 8/50\n",
      "128/128 [==============================] - 17s 135ms/step - loss: 0.0547 - val_loss: 0.0476\n",
      "Epoch 9/50\n",
      "128/128 [==============================] - 17s 135ms/step - loss: 0.0541 - val_loss: 0.0472\n",
      "Epoch 10/50\n",
      "128/128 [==============================] - 17s 134ms/step - loss: 0.0535 - val_loss: 0.0467\n",
      "Epoch 11/50\n",
      "128/128 [==============================] - 17s 134ms/step - loss: 0.0531 - val_loss: 0.0463\n",
      "Epoch 12/50\n",
      "128/128 [==============================] - 17s 134ms/step - loss: 0.0526 - val_loss: 0.0460\n",
      "Epoch 13/50\n",
      "128/128 [==============================] - 17s 134ms/step - loss: 0.0522 - val_loss: 0.0456\n",
      "Epoch 14/50\n",
      "128/128 [==============================] - 17s 134ms/step - loss: 0.0518 - val_loss: 0.0454\n",
      "Epoch 15/50\n",
      "128/128 [==============================] - 17s 133ms/step - loss: 0.0514 - val_loss: 0.0450\n",
      "Epoch 16/50\n",
      "128/128 [==============================] - 17s 135ms/step - loss: 0.0511 - val_loss: 0.0447\n",
      "Epoch 17/50\n",
      "128/128 [==============================] - 17s 136ms/step - loss: 0.0508 - val_loss: 0.0444\n",
      "Epoch 18/50\n",
      "128/128 [==============================] - 17s 134ms/step - loss: 0.0505 - val_loss: 0.0442\n",
      "Epoch 19/50\n",
      "128/128 [==============================] - 17s 136ms/step - loss: 0.0501 - val_loss: 0.0439\n",
      "Epoch 20/50\n",
      "128/128 [==============================] - 17s 136ms/step - loss: 0.0499 - val_loss: 0.0437\n",
      "Epoch 21/50\n",
      "128/128 [==============================] - 17s 135ms/step - loss: 0.0496 - val_loss: 0.0435\n",
      "Epoch 22/50\n",
      "128/128 [==============================] - 17s 133ms/step - loss: 0.0494 - val_loss: 0.0433\n",
      "Epoch 23/50\n",
      "128/128 [==============================] - 17s 134ms/step - loss: 0.0491 - val_loss: 0.0431\n",
      "Epoch 24/50\n",
      "128/128 [==============================] - 17s 134ms/step - loss: 0.0489 - val_loss: 0.0429\n",
      "Epoch 25/50\n",
      "128/128 [==============================] - 17s 133ms/step - loss: 0.0487 - val_loss: 0.0427\n",
      "Epoch 26/50\n",
      "128/128 [==============================] - 17s 133ms/step - loss: 0.0485 - val_loss: 0.0426\n",
      "Epoch 27/50\n",
      "128/128 [==============================] - 17s 134ms/step - loss: 0.0483 - val_loss: 0.0424\n",
      "Epoch 28/50\n",
      "128/128 [==============================] - 17s 133ms/step - loss: 0.0481 - val_loss: 0.0423\n",
      "Epoch 29/50\n",
      "128/128 [==============================] - 17s 133ms/step - loss: 0.0480 - val_loss: 0.0421\n",
      "Epoch 30/50\n",
      "128/128 [==============================] - 17s 133ms/step - loss: 0.0478 - val_loss: 0.0420\n",
      "Epoch 31/50\n",
      "128/128 [==============================] - 17s 133ms/step - loss: 0.0476 - val_loss: 0.0418\n",
      "Epoch 32/50\n",
      "128/128 [==============================] - 17s 134ms/step - loss: 0.0474 - val_loss: 0.0418\n",
      "Epoch 33/50\n",
      "128/128 [==============================] - 17s 133ms/step - loss: 0.0474 - val_loss: 0.0416\n",
      "Epoch 34/50\n",
      "128/128 [==============================] - 17s 133ms/step - loss: 0.0471 - val_loss: 0.0415\n",
      "Epoch 35/50\n",
      "128/128 [==============================] - 17s 136ms/step - loss: 0.0471 - val_loss: 0.0414\n",
      "Epoch 36/50\n",
      "128/128 [==============================] - 17s 132ms/step - loss: 0.0469 - val_loss: 0.0415\n",
      "Epoch 37/50\n",
      "128/128 [==============================] - 17s 134ms/step - loss: 0.0468 - val_loss: 0.0412\n",
      "Epoch 38/50\n",
      "128/128 [==============================] - 18s 138ms/step - loss: 0.0466 - val_loss: 0.0412\n",
      "Epoch 39/50\n",
      "128/128 [==============================] - 17s 133ms/step - loss: 0.0466 - val_loss: 0.0410\n",
      "Epoch 40/50\n",
      "128/128 [==============================] - 17s 134ms/step - loss: 0.0464 - val_loss: 0.0410\n",
      "Epoch 41/50\n",
      "128/128 [==============================] - 17s 133ms/step - loss: 0.0463 - val_loss: 0.0408\n",
      "Epoch 42/50\n",
      "128/128 [==============================] - 17s 133ms/step - loss: 0.0462 - val_loss: 0.0407\n",
      "Epoch 43/50\n",
      "128/128 [==============================] - 17s 133ms/step - loss: 0.0460 - val_loss: 0.0406\n",
      "Epoch 44/50\n",
      "128/128 [==============================] - 17s 132ms/step - loss: 0.0460 - val_loss: 0.0405\n",
      "Epoch 45/50\n",
      "128/128 [==============================] - 17s 133ms/step - loss: 0.0459 - val_loss: 0.0406\n",
      "Epoch 46/50\n",
      "128/128 [==============================] - 17s 134ms/step - loss: 0.0458 - val_loss: 0.0404\n",
      "Epoch 47/50\n",
      "128/128 [==============================] - 17s 132ms/step - loss: 0.0457 - val_loss: 0.0403\n",
      "Epoch 48/50\n",
      "128/128 [==============================] - 17s 133ms/step - loss: 0.0456 - val_loss: 0.0402\n",
      "Epoch 49/50\n",
      "128/128 [==============================] - 17s 132ms/step - loss: 0.0456 - val_loss: 0.0402\n",
      "Epoch 50/50\n",
      "128/128 [==============================] - 17s 131ms/step - loss: 0.0454 - val_loss: 0.0401\n"
     ]
    }
   ],
   "source": [
    "history = model.fit(train_x, train_y, epochs=50, batch_size=8, steps_per_epoch= 128, shuffle=1, validation_split=0.3)"
   ]
  },
  {
   "cell_type": "code",
   "execution_count": 0,
   "metadata": {
    "colab": {
     "base_uri": "https://localhost:8080/",
     "height": 281
    },
    "colab_type": "code",
    "executionInfo": {
     "elapsed": 964,
     "status": "ok",
     "timestamp": 1562234104029,
     "user": {
      "displayName": "Nicola Procopio",
      "photoUrl": "https://lh6.googleusercontent.com/-0FiYlmA_b6M/AAAAAAAAAAI/AAAAAAAABKk/8Uy5ioetBUA/s64/photo.jpg",
      "userId": "17184811544207335835"
     },
     "user_tz": -120
    },
    "id": "ESAdeKJxUfFv",
    "outputId": "9d33e61c-d9fa-4187-edd9-c15a4c5d76c0"
   },
   "outputs": [
    {
     "data": {
      "image/png": "[encoded data removed]",
      "text/plain": [
       "<Figure size 432x288 with 1 Axes>"
      ]
     },
     "metadata": {
      "tags": []
     },
     "output_type": "display_data"
    }
   ],
   "source": [
    "loss = history.history['loss']\n",
    "val_loss = history.history['val_loss']\n",
    "epochs = range(1, len(loss)+1)\n",
    "plt.figure()\n",
    "fig = plt.gcf()\n",
    "fig.set_size_inches(18.5, 10.5)\n",
    "plt.plot(epochs, loss, 'bo', label = 'Training loss')\n",
    "plt.plot(epochs, val_loss, 'b', label = 'Validation loss')\n",
    "plt.title('Training and Validation Loss')\n",
    "plt.legend()\n",
    "\n",
    "plt.show()"
   ]
  },
  {
   "cell_type": "code",
   "execution_count": 0,
   "metadata": {
    "colab": {
     "base_uri": "https://localhost:8080/",
     "height": 54
    },
    "colab_type": "code",
    "executionInfo": {
     "elapsed": 63679,
     "status": "ok",
     "timestamp": 1562234206605,
     "user": {
      "displayName": "Nicola Procopio",
      "photoUrl": "https://lh6.googleusercontent.com/-0FiYlmA_b6M/AAAAAAAAAAI/AAAAAAAABKk/8Uy5ioetBUA/s64/photo.jpg",
      "userId": "17184811544207335835"
     },
     "user_tz": -120
    },
    "id": "5rE3bT4UZXBS",
    "outputId": "11c3830e-ef46-4196-b217-385f47f87bc0"
   },
   "outputs": [
    {
     "name": "stdout",
     "output_type": "stream",
     "text": [
      "Train Score: 0.04 MSE (0.21 RMSE)\n",
      "Test Score: 0.04 MSE (0.21 RMSE)\n"
     ]
    }
   ],
   "source": [
    "trainScore = model.evaluate(train_x, train_y, batch_size=8,verbose=0)\n",
    "print('Train Score: %.2f MSE (%.2f RMSE)' % (trainScore, np.sqrt(trainScore)))\n",
    "testScore = model.evaluate(test_x, test_y, batch_size=8, verbose=0)\n",
    "print('Test Score: %.2f MSE (%.2f RMSE)' % (testScore, np.sqrt(testScore)))"
   ]
  },
  {
   "cell_type": "code",
   "execution_count": 0,
   "metadata": {
    "colab": {},
    "colab_type": "code",
    "id": "S-MM9UyBZXxB"
   },
   "outputs": [],
   "source": [
    "trainPredict = model.predict(train_x, batch_size= 8)\n",
    "testPredict = model.predict(test_x, batch_size=8)"
   ]
  },
  {
   "cell_type": "code",
   "execution_count": 0,
   "metadata": {
    "colab": {
     "base_uri": "https://localhost:8080/",
     "height": 281
    },
    "colab_type": "code",
    "executionInfo": {
     "elapsed": 1628,
     "status": "ok",
     "timestamp": 1562234336738,
     "user": {
      "displayName": "Nicola Procopio",
      "photoUrl": "https://lh6.googleusercontent.com/-0FiYlmA_b6M/AAAAAAAAAAI/AAAAAAAABKk/8Uy5ioetBUA/s64/photo.jpg",
      "userId": "17184811544207335835"
     },
     "user_tz": -120
    },
    "id": "J_0iMjT7ZUjT",
    "outputId": "0082898b-bea0-4bc2-8600-36b8db05644d"
   },
   "outputs": [
    {
     "data": {
      "image/png": "[encoded data removed]",
      "text/plain": [
       "<Figure size 432x288 with 1 Axes>"
      ]
     },
     "metadata": {
      "tags": []
     },
     "output_type": "display_data"
    }
   ],
   "source": [
    "plt.figure()\n",
    "fig = plt.gcf()\n",
    "fig.set_size_inches(18.5, 10.5)\n",
    "plt.plot(range(len(test_y)), test_y, label = 'Real data')\n",
    "plt.plot(range(len(testPredict)), testPredict, label = 'Predicted data')\n",
    "plt.title('Real and Predicted Series')\n",
    "plt.legend()\n",
    "\n",
    "plt.show()"
   ]
  },
  {
   "cell_type": "code",
   "execution_count": 0,
   "metadata": {
    "colab": {
     "base_uri": "https://localhost:8080/",
     "height": 269
    },
    "colab_type": "code",
    "executionInfo": {
     "elapsed": 1446,
     "status": "ok",
     "timestamp": 1562234851474,
     "user": {
      "displayName": "Nicola Procopio",
      "photoUrl": "https://lh6.googleusercontent.com/-0FiYlmA_b6M/AAAAAAAAAAI/AAAAAAAABKk/8Uy5ioetBUA/s64/photo.jpg",
      "userId": "17184811544207335835"
     },
     "user_tz": -120
    },
    "id": "IMfT5NkhbC7Y",
    "outputId": "8039aa8b-24fc-4e7a-be52-ea8c3474c6ce"
   },
   "outputs": [
    {
     "data": {
      "image/png": "[encoded data removed]",
      "text/plain": [
       "<Figure size 432x288 with 1 Axes>"
      ]
     },
     "metadata": {
      "tags": []
     },
     "output_type": "display_data"
    }
   ],
   "source": [
    "trainPredictPlot = np.empty_like(temp)\n",
    "trainPredictPlot[:] = np.nan\n",
    "trainPredictPlot[6:(len(trainPredict)+6)] = trainPredict[:,0]\n",
    "# shift test predictions for plotting\n",
    "testPredictPlot = np.empty_like(temp)\n",
    "testPredictPlot[:] = np.nan\n",
    "testPredictPlot[(len(trainPredict)+(6*2)):len(temp)] = testPredict[:,0]\n",
    "# plot baseline and predictions\n",
    "fig = plt.gcf()\n",
    "fig.set_size_inches(18.5, 10.5)\n",
    "plt.plot(temp)\n",
    "plt.plot(trainPredictPlot)\n",
    "plt.plot(testPredictPlot)\n",
    "plt.show()"
   ]
  },
  {
   "cell_type": "markdown",
   "metadata": {
    "colab_type": "text",
    "id": "tdHDIp78dzo7"
   },
   "source": [
    "### Validazione numerica"
   ]
  },
  {
   "cell_type": "markdown",
   "metadata": {
    "colab_type": "text",
    "id": "4J6wehVyd4NH"
   },
   "source": [
    "Confrontiamo i primi 10 valori predetti e reali"
   ]
  },
  {
   "cell_type": "code",
   "execution_count": 0,
   "metadata": {
    "colab": {
     "base_uri": "https://localhost:8080/",
     "height": 54
    },
    "colab_type": "code",
    "executionInfo": {
     "elapsed": 1034,
     "status": "ok",
     "timestamp": 1562234901728,
     "user": {
      "displayName": "Nicola Procopio",
      "photoUrl": "https://lh6.googleusercontent.com/-0FiYlmA_b6M/AAAAAAAAAAI/AAAAAAAABKk/8Uy5ioetBUA/s64/photo.jpg",
      "userId": "17184811544207335835"
     },
     "user_tz": -120
    },
    "id": "PWp-nvZ1ch_I",
    "outputId": "65cafc78-620b-4380-ccd4-8a0d2f5a2421"
   },
   "outputs": [
    {
     "data": {
      "text/plain": [
       "array([13.771059, 13.667763, 13.673071, 13.49193 , 13.495436, 13.513806,\n",
       "       13.457093, 13.429043, 13.453822, 13.407852], dtype=float32)"
      ]
     },
     "execution_count": 60,
     "metadata": {
      "tags": []
     },
     "output_type": "execute_result"
    }
   ],
   "source": [
    "testPredict[:10,0]"
   ]
  },
  {
   "cell_type": "code",
   "execution_count": 0,
   "metadata": {
    "colab": {
     "base_uri": "https://localhost:8080/",
     "height": 54
    },
    "colab_type": "code",
    "executionInfo": {
     "elapsed": 942,
     "status": "ok",
     "timestamp": 1562234916684,
     "user": {
      "displayName": "Nicola Procopio",
      "photoUrl": "https://lh6.googleusercontent.com/-0FiYlmA_b6M/AAAAAAAAAAI/AAAAAAAABKk/8Uy5ioetBUA/s64/photo.jpg",
      "userId": "17184811544207335835"
     },
     "user_tz": -120
    },
    "id": "jKOa6UZZdNAR",
    "outputId": "ac897cf3-80cc-41f1-dbdc-19dac17d5a3f"
   },
   "outputs": [
    {
     "data": {
      "text/plain": [
       "array([13.73, 13.68, 13.55, 13.53, 13.53, 13.5 , 13.46, 13.46, 13.43,\n",
       "       13.45])"
      ]
     },
     "execution_count": 61,
     "metadata": {
      "tags": []
     },
     "output_type": "execute_result"
    }
   ],
   "source": [
    "test_y[:10]"
   ]
  },
  {
   "cell_type": "markdown",
   "metadata": {
    "colab_type": "text",
    "id": "Ry7pGGyseCPm"
   },
   "source": [
    "Costruiamo un plot con sulle ascisse i valori reali e sulle ordinate le previsioni.\n",
    "<br>\n",
    "Di seguito colcoliamo l'R^2"
   ]
  },
  {
   "cell_type": "code",
   "execution_count": 0,
   "metadata": {
    "colab": {
     "base_uri": "https://localhost:8080/",
     "height": 301
    },
    "colab_type": "code",
    "executionInfo": {
     "elapsed": 2735,
     "status": "ok",
     "timestamp": 1562235268291,
     "user": {
      "displayName": "Nicola Procopio",
      "photoUrl": "https://lh6.googleusercontent.com/-0FiYlmA_b6M/AAAAAAAAAAI/AAAAAAAABKk/8Uy5ioetBUA/s64/photo.jpg",
      "userId": "17184811544207335835"
     },
     "user_tz": -120
    },
    "id": "RANWdZUueJ3V",
    "outputId": "c061b16a-e383-4596-82db-5fb771dea379"
   },
   "outputs": [
    {
     "data": {
      "text/plain": [
       "Text(0, 0.5, 'Predicted Values')"
      ]
     },
     "execution_count": 64,
     "metadata": {
      "tags": []
     },
     "output_type": "execute_result"
    },
    {
     "data": {
      "image/png": "[encoded data removed]",
      "text/plain": [
       "<Figure size 432x288 with 1 Axes>"
      ]
     },
     "metadata": {
      "tags": []
     },
     "output_type": "display_data"
    }
   ],
   "source": [
    "fig = plt.gcf()\n",
    "fig.set_size_inches(18.5, 10.5)\n",
    "plt.scatter(test_y, testPredict[:,0])\n",
    "plt.xlabel('Y test (True Values)')\n",
    "plt.ylabel('Predicted Values')"
   ]
  },
  {
   "cell_type": "code",
   "execution_count": 0,
   "metadata": {
    "colab": {},
    "colab_type": "code",
    "id": "GZIDIQMfdQrX"
   },
   "outputs": [],
   "source": [
    "from sklearn.metrics import r2_score"
   ]
  },
  {
   "cell_type": "code",
   "execution_count": 0,
   "metadata": {
    "colab": {
     "base_uri": "https://localhost:8080/",
     "height": 35
    },
    "colab_type": "code",
    "executionInfo": {
     "elapsed": 770,
     "status": "ok",
     "timestamp": 1562235045329,
     "user": {
      "displayName": "Nicola Procopio",
      "photoUrl": "https://lh6.googleusercontent.com/-0FiYlmA_b6M/AAAAAAAAAAI/AAAAAAAABKk/8Uy5ioetBUA/s64/photo.jpg",
      "userId": "17184811544207335835"
     },
     "user_tz": -120
    },
    "id": "2azBcDbGdhIp",
    "outputId": "638519df-161d-473c-a51d-70d3a904e407"
   },
   "outputs": [
    {
     "name": "stdout",
     "output_type": "stream",
     "text": [
      "r2 score:  0.999301633064758\n"
     ]
    }
   ],
   "source": [
    "print('r2 score: ', r2_score(test_y, testPredict[:,0]))"
   ]
  },
  {
   "cell_type": "markdown",
   "metadata": {
    "colab_type": "text",
    "id": "3g6Wx917ewdA"
   },
   "source": [
    "# OVERFITTING?"
   ]
  }
 ],
 "metadata": {
  "accelerator": "GPU",
  "colab": {
   "collapsed_sections": [],
   "name": "001 - simple_dense_neuralNet.ipynb",
   "provenance": [],
   "version": "0.3.2"
  },
  "kernelspec": {
   "display_name": "Python 3",
   "language": "python",
   "name": "python3"
  },
  "language_info": {
   "codemirror_mode": {
    "name": "ipython",
    "version": 3
   },
   "file_extension": ".py",
   "mimetype": "text/x-python",
   "name": "python",
   "nbconvert_exporter": "python",
   "pygments_lexer": "ipython3",
   "version": "3.6.8"
  }
 },
 "nbformat": 4,
 "nbformat_minor": 1
}
